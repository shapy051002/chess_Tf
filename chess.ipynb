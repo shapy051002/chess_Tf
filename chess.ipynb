{
 "cells": [
  {
   "cell_type": "code",
   "execution_count": 1,
   "metadata": {},
   "outputs": [
    {
     "name": "stdout",
     "output_type": "stream",
     "text": [
      "2.1.1+cpu\n"
     ]
    }
   ],
   "source": [
    "import torch\n",
    "print(torch.__version__)\n"
   ]
  },
  {
   "cell_type": "code",
   "execution_count": 3,
   "metadata": {},
   "outputs": [],
   "source": [
    "import torch\n",
    "import torch.nn as nn\n",
    "import torch.optim as optim\n",
    "import torch.utils.data as data\n",
    "from sklearn.datasets import make_regression\n",
    "import numpy as np\n",
    "\n"
   ]
  },
  {
   "cell_type": "markdown",
   "metadata": {},
   "source": [
    "Original chess state & score"
   ]
  },
  {
   "cell_type": "code",
   "execution_count": 15,
   "metadata": {},
   "outputs": [
    {
     "name": "stdout",
     "output_type": "stream",
     "text": [
      "r . . . . . . R\n",
      ". . . . . . k .\n",
      "p P . P . . . .\n",
      ". . p . . P p .\n",
      ". . P . . . . .\n",
      ". . . . . . . P\n",
      "R . . . . K . .\n",
      "N r . . . . . .\n"
     ]
    }
   ],
   "source": [
    "\n",
    "\n",
    "import chess\n",
    "import chess.engine\n",
    "import random\n",
    "import numpy\n",
    "import math\n",
    "import chess\n",
    "import time\n",
    "import chess.engine\n",
    "import random\n",
    "\n",
    "def random_board(max_depth=200):\n",
    "    while True:\n",
    "        board = chess.Board()\n",
    "        depth = random.randrange(0, max_depth)\n",
    "\n",
    "        for _ in range(depth):\n",
    "            all_moves = list(board.legal_moves)\n",
    "            random_move = random.choice(all_moves)\n",
    "            board.push(random_move)\n",
    "            if board.is_game_over():\n",
    "                break\n",
    "\n",
    "        score = stockfish(board, 5)\n",
    "\n",
    "        # Check if the score is not None and not nan\n",
    "        if score is not None and not math.isnan(score):\n",
    "            return board\n",
    "\n",
    "# Rest of your code...\n",
    "\n",
    "def stockfish(board, depth):\n",
    "    with chess.engine.SimpleEngine.popen_uci(r\"C:\\Users\\shrey\\Downloads\\stockfish-windows-x86-64-avx2\\stockfish\\stockfish-windows-x86-64-avx2.exe\") as sf:\n",
    "        result = sf.analyse(board, chess.engine.Limit(depth=depth))\n",
    "        \n",
    "        # Check if the score is not None before accessing the score() method\n",
    "        score = result['score'].white().score() if result['score'].white() is not None else 0.0\n",
    "\n",
    "        return float(score) if score is not None else float('nan')\n",
    "\n",
    "\n",
    "board = random_board()\n",
    "print(board)\n",
    "#print(stockfish(board, 10))\n",
    "\n",
    "squares_index = {\n",
    "    'a': 0,\n",
    "    'b': 1,\n",
    "    'c': 2,\n",
    "    'd': 3,\n",
    "    'e': 4,\n",
    "    'f': 5,\n",
    "    'g': 6,\n",
    "    'h': 7\n",
    "}\n",
    "def square_to_index(square):\n",
    "    letter = chess.square_name(square)\n",
    "    return 8 - int(letter[1]), squares_index[letter[0]]\n",
    "\n",
    "\n",
    "def split_dims(board):\n",
    "    board3d = numpy.zeros((14,8,8), dtype=numpy.int8)\n",
    "    for piece in chess.PIECE_TYPES:\n",
    "        for square in board.pieces(piece, chess.WHITE):\n",
    "            idx = numpy.unravel_index(square, (8,8))\n",
    "            board3d[piece - 1][7 - idx[0]][idx[1]] = 1\n",
    "        for square in board.pieces(piece, chess.BLACK):\n",
    "            idx = numpy.unravel_index(square, (8,8))\n",
    "            board3d[piece + 5][7 - idx[0]][idx[1]] = 1\n",
    "\n",
    "    aux = board.turn\n",
    "    board.turn = chess.WHITE\n",
    "    for move in board.legal_moves:\n",
    "        i, j = square_to_index(move.to_square)\n",
    "        board3d[12][i][j] = 1\n",
    "    board.turn = chess.BLACK\n",
    "    for move in board.legal_moves:\n",
    "        i, j = square_to_index(move.to_square)\n",
    "        board3d[13][i][j] = 1\n",
    "    board.turn = aux\n",
    "    #print(board3d)\n",
    "    return board3d\n",
    "#split_dims(board)\n"
   ]
  },
  {
   "cell_type": "markdown",
   "metadata": {},
   "source": [
    "Torch CNN(original and modified)"
   ]
  },
  {
   "cell_type": "code",
   "execution_count": 13,
   "metadata": {},
   "outputs": [],
   "source": [
    "\n",
    "\n",
    "class ChessEvalNet(nn.Module):\n",
    "    def __init__(self):\n",
    "        super(ChessEvalNet, self).__init__()\n",
    "        self.conv1 = nn.Conv2d(14, 32, kernel_size=3, padding=1)  # 14 input channels for the chess board representation\n",
    "        self.conv2 = nn.Conv2d(32, 64, kernel_size=3, padding=1)\n",
    "        self.conv3 = nn.Conv2d(64, 128, kernel_size=3, padding=1)\n",
    "        self.fc1 = nn.Linear(128 * 8 * 8, 256)\n",
    "        self.fc2 = nn.Linear(256, 1)\n",
    "\n",
    "    def forward(self, x):\n",
    "        x = torch.relu(self.conv1(x))\n",
    "        x = torch.relu(self.conv2(x))\n",
    "        x = torch.relu(self.conv3(x))\n",
    "        x = x.view(-1, 128 * 8 * 8)  # Flatten\n",
    "        x = torch.relu(self.fc1(x))\n",
    "        x = self.fc2(x)\n",
    "\n",
    "        return x\n"
   ]
  },
  {
   "cell_type": "code",
   "execution_count": 19,
   "metadata": {},
   "outputs": [
    {
     "ename": "NameError",
     "evalue": "name 'Dataset' is not defined",
     "output_type": "error",
     "traceback": [
      "\u001b[1;31m---------------------------------------------------------------------------\u001b[0m",
      "\u001b[1;31mNameError\u001b[0m                                 Traceback (most recent call last)",
      "Cell \u001b[1;32mIn[19], line 1\u001b[0m\n\u001b[1;32m----> 1\u001b[0m \u001b[38;5;28;01mclass\u001b[39;00m \u001b[38;5;21;01mChessDataset\u001b[39;00m(\u001b[43mDataset\u001b[49m):\n\u001b[0;32m      2\u001b[0m     \u001b[38;5;28;01mdef\u001b[39;00m \u001b[38;5;21m__init__\u001b[39m(\u001b[38;5;28mself\u001b[39m, x, y):\n\u001b[0;32m      3\u001b[0m         \u001b[38;5;28mself\u001b[39m\u001b[38;5;241m.\u001b[39mx \u001b[38;5;241m=\u001b[39m torch\u001b[38;5;241m.\u001b[39mtensor(x, dtype\u001b[38;5;241m=\u001b[39mtorch\u001b[38;5;241m.\u001b[39mfloat32)\n",
      "\u001b[1;31mNameError\u001b[0m: name 'Dataset' is not defined"
     ]
    }
   ],
   "source": [
    "class ChessDataset(Dataset):\n",
    "    def __init__(self, x, y):\n",
    "        self.x = torch.tensor(x, dtype=torch.float32)\n",
    "        self.y = torch.tensor(y, dtype=torch.float32)\n",
    "    \n",
    "    def __len__(self):\n",
    "        return len(self.x)\n",
    "    \n",
    "    def __getitem__(self, idx):\n",
    "        return self.x[idx], self.y[idx]\n",
    "\n",
    "# Define hyperparameters\n",
    "batch_size = 32\n",
    "num_epochs = 10\n",
    "\n",
    "# Create dataset and dataloader\n",
    "dataset = ChessDataset(x, y)\n",
    "train_loader = DataLoader(dataset, batch_size=batch_size, shuffle=True)\n",
    "\n",
    "class ChessEvalNet(nn.Module):\n",
    "    def __init__(self):\n",
    "        super(ChessEvalNet, self).__init__()\n",
    "        self.conv1 = nn.Conv2d(14, 32, kernel_size=3, padding=1)\n",
    "        self.conv2 = nn.Conv2d(32, 64, kernel_size=3, padding=1)\n",
    "        self.fc1 = nn.Linear(64 * 8 * 8, 128)\n",
    "        self.fc2 = nn.Linear(128, 1)\n",
    "        self.relu = nn.ReLU()\n",
    "        self.flatten = nn.Flatten()\n",
    "\n",
    "    def forward(self, x):\n",
    "        x = self.relu(self.conv1(x))\n",
    "        x = self.relu(self.conv2(x))\n",
    "        x = self.flatten(x)\n",
    "        x = self.relu(self.fc1(x))\n",
    "        x = self.fc2(x)\n",
    "        return x\n",
    "\n",
    "# Initialize model, optimizer, and loss function\n",
    "model = ChessEvalNet()\n",
    "optimizer = optim.Adam(model.parameters(), lr=0.001)\n",
    "criterion = nn.MSELoss()\n",
    "\n",
    "# Training loop\n",
    "for epoch in range(num_epochs):\n",
    "    running_loss = 0.0\n",
    "    for inputs, labels in train_loader:\n",
    "        optimizer.zero_grad()\n",
    "        outputs = model(inputs)\n",
    "        loss = criterion(outputs.squeeze(), labels)\n",
    "        loss.backward()\n",
    "        optimizer.step()\n",
    "        running_loss += loss.item()\n",
    "\n",
    "    print(f'Epoch [{epoch+1}/{num_epochs}], Loss: {running_loss/len(train_loader)}')"
   ]
  },
  {
   "cell_type": "markdown",
   "metadata": {},
   "source": [
    "Data generation"
   ]
  },
  {
   "cell_type": "code",
   "execution_count": 16,
   "metadata": {},
   "outputs": [
    {
     "name": "stdout",
     "output_type": "stream",
     "text": [
      "Generated 100 samples, Time taken: 82.44 seconds\n",
      "Generated 200 samples, Time taken: 90.12 seconds\n",
      "Generated 300 samples, Time taken: 93.02 seconds\n",
      "Generated 400 samples, Time taken: 89.92 seconds\n",
      "Generated 500 samples, Time taken: 80.72 seconds\n",
      "Generated 600 samples, Time taken: 79.98 seconds\n",
      "Generated 700 samples, Time taken: 82.76 seconds\n",
      "Generated 800 samples, Time taken: 86.30 seconds\n",
      "Generated 900 samples, Time taken: 86.86 seconds\n",
      "Data generation complete!\n"
     ]
    }
   ],
   "source": [
    "# Number of samples\n",
    "size_data = 1000\n",
    "\n",
    "\n",
    "x = np.zeros((size_data, 14, 8, 8), dtype=np.int8)\n",
    "y = np.zeros(size_data, dtype=np.float32)\n",
    "\n",
    "start_time = time.time()\n",
    "\n",
    "for i in range(size_data):\n",
    "    board = random_board()\n",
    "    \n",
    "    x[i] = split_dims(board)\n",
    "    y[i] = stockfish(board, 5)\n",
    "\n",
    "    if i % 100 == 0 and i != 0:\n",
    "        current_time = time.time()\n",
    "        elapsed_time = current_time - start_time\n",
    "        print(f\"Generated {i} samples, Time taken: {elapsed_time:.2f} seconds\")\n",
    "        start_time = current_time\n",
    "\n",
    "print(\"Data generation complete!\")"
   ]
  },
  {
   "cell_type": "markdown",
   "metadata": {},
   "source": [
    "save and load data"
   ]
  },
  {
   "cell_type": "code",
   "execution_count": 17,
   "metadata": {},
   "outputs": [
    {
     "name": "stdout",
     "output_type": "stream",
     "text": [
      "Dataset saved to chess_dataset.npz\n"
     ]
    }
   ],
   "source": [
    "np.savez('chess_dataset.npz', x=x, y=y)\n",
    "\n",
    "print(\"Dataset saved to chess_dataset.npz\")"
   ]
  },
  {
   "cell_type": "code",
   "execution_count": null,
   "metadata": {},
   "outputs": [],
   "source": [
    "import numpy as np\n",
    "\n",
    "\n",
    "data = np.load('chess_dataset.npz')\n",
    "x = data['x']\n",
    "y = data['y']\n",
    "\n",
    "print(\"Data loaded from chess_dataset.npz\")\n",
    "print(f\"x shape: {x.shape}\")\n",
    "print(f\"y shape: {y.shape}\")"
   ]
  },
  {
   "cell_type": "markdown",
   "metadata": {},
   "source": [
    "data to tensor"
   ]
  },
  {
   "cell_type": "code",
   "execution_count": 23,
   "metadata": {},
   "outputs": [],
   "source": [
    "from torch.utils.data import DataLoader, TensorDataset\n",
    "x_tensor = torch.tensor(x, dtype=torch.float32)\n",
    "y_tensor = torch.tensor(y, dtype=torch.float32)\n",
    "\n",
    "\n",
    "dataset = TensorDataset(x_tensor, y_tensor)\n",
    "train_loader = DataLoader(dataset, batch_size=32, shuffle=True)"
   ]
  },
  {
   "cell_type": "code",
   "execution_count": 38,
   "metadata": {},
   "outputs": [
    {
     "name": "stdout",
     "output_type": "stream",
     "text": [
      "Epoch [1/50], Loss: 380045.6875\n",
      "Epoch [2/50], Loss: 642252.5\n",
      "Epoch [3/50], Loss: 271466.78125\n",
      "Epoch [4/50], Loss: 632578.375\n",
      "Epoch [5/50], Loss: 129062.1328125\n",
      "Epoch [6/50], Loss: 400927.03125\n",
      "Epoch [7/50], Loss: 263612.96875\n",
      "Epoch [8/50], Loss: 184865.34375\n",
      "Epoch [9/50], Loss: 757465.6875\n",
      "Epoch [10/50], Loss: 72700.53125\n",
      "Epoch [11/50], Loss: 177799.671875\n",
      "Epoch [12/50], Loss: 115838.328125\n",
      "Epoch [13/50], Loss: 185991.078125\n",
      "Epoch [14/50], Loss: 326594.96875\n",
      "Epoch [15/50], Loss: 228458.0\n",
      "Epoch [16/50], Loss: 479005.4375\n",
      "Epoch [17/50], Loss: 83889.234375\n",
      "Epoch [18/50], Loss: 290810.0625\n",
      "Epoch [19/50], Loss: 167040.90625\n",
      "Epoch [20/50], Loss: 119600.890625\n",
      "Epoch [21/50], Loss: 238912.359375\n",
      "Epoch [22/50], Loss: 167457.71875\n",
      "Epoch [23/50], Loss: 1136638.875\n",
      "Epoch [24/50], Loss: 122035.65625\n",
      "Epoch [25/50], Loss: 115704.1171875\n",
      "Epoch [26/50], Loss: 48390.65625\n",
      "Epoch [27/50], Loss: 223062.78125\n",
      "Epoch [28/50], Loss: 138415.484375\n",
      "Epoch [29/50], Loss: 106473.1875\n",
      "Epoch [30/50], Loss: 87428.8203125\n",
      "Epoch [31/50], Loss: 359320.0\n",
      "Epoch [32/50], Loss: 180802.9375\n",
      "Epoch [33/50], Loss: 219449.1875\n",
      "Epoch [34/50], Loss: 80619.8359375\n",
      "Epoch [35/50], Loss: 124124.625\n",
      "Epoch [36/50], Loss: 324777.0625\n",
      "Epoch [37/50], Loss: 317195.40625\n",
      "Epoch [38/50], Loss: 193097.40625\n",
      "Epoch [39/50], Loss: 30997.37109375\n",
      "Epoch [40/50], Loss: 48766.8046875\n",
      "Epoch [41/50], Loss: 271976.40625\n",
      "Epoch [42/50], Loss: 617870.1875\n",
      "Epoch [43/50], Loss: 143909.375\n",
      "Epoch [44/50], Loss: 106685.625\n",
      "Epoch [45/50], Loss: 126249.1796875\n",
      "Epoch [46/50], Loss: 79045.6875\n",
      "Epoch [47/50], Loss: 159347.609375\n",
      "Epoch [48/50], Loss: 242052.375\n",
      "Epoch [49/50], Loss: 62927.41796875\n",
      "Epoch [50/50], Loss: 212961.40625\n"
     ]
    }
   ],
   "source": [
    "class ChessEvalNet(nn.Module):\n",
    "    def __init__(self):\n",
    "        super(ChessEvalNet, self).__init__()\n",
    "        self.conv1 = nn.Conv2d(14, 32, kernel_size=3, stride=1, padding=1)\n",
    "        self.conv2 = nn.Conv2d(32, 64, kernel_size=3, stride=1, padding=1)\n",
    "        self.fc1 = nn.Linear(64 * 8 * 8, 128)\n",
    "        self.fc2 = nn.Linear(128, 1)\n",
    "\n",
    "    def forward(self, x):\n",
    "        x = torch.relu(self.conv1(x))\n",
    "        x = torch.relu(self.conv2(x))\n",
    "        x = x.view(x.size(0), -1)\n",
    "        x = torch.relu(self.fc1(x))\n",
    "        x = self.fc2(x)\n",
    "        return x\n",
    "\n",
    "model = ChessEvalNet()\n",
    "optimizer = optim.Adam(model.parameters(), lr=0.001)\n",
    "criterion = nn.MSELoss()\n",
    "\n",
    "\n",
    "num_epochs = 50\n",
    "for epoch in range(num_epochs):\n",
    "    for inputs, labels in train_loader:\n",
    "        optimizer.zero_grad()\n",
    "        outputs = model(inputs)\n",
    "        loss = criterion(outputs.squeeze(), labels)\n",
    "        loss.backward()\n",
    "        optimizer.step()\n",
    "\n",
    "    print(f'Epoch [{epoch+1}/{num_epochs}], Loss: {loss.item()}')\n"
   ]
  },
  {
   "cell_type": "markdown",
   "metadata": {},
   "source": [
    "save and load model"
   ]
  },
  {
   "cell_type": "code",
   "execution_count": 41,
   "metadata": {},
   "outputs": [
    {
     "name": "stdout",
     "output_type": "stream",
     "text": [
      "Model saved to chess_eval_net.pth\n"
     ]
    }
   ],
   "source": [
    "\n",
    "torch.save(model.state_dict(), 'chess_eval_net.pth')\n",
    "print(\"Model saved to chess_eval_net.pth\")\n"
   ]
  },
  {
   "cell_type": "code",
   "execution_count": 44,
   "metadata": {},
   "outputs": [
    {
     "name": "stdout",
     "output_type": "stream",
     "text": [
      "Model loaded from chess_eval_net.pth\n"
     ]
    }
   ],
   "source": [
    "\n",
    "model = ChessEvalNet()\n",
    "\n",
    "\n",
    "model.load_state_dict(torch.load('chess_eval_net.pth'))\n",
    "\n",
    "model.eval()\n",
    "\n",
    "print(\"Model loaded from chess_eval_net.pth\")\n",
    "\n"
   ]
  },
  {
   "cell_type": "markdown",
   "metadata": {},
   "source": [
    "playing"
   ]
  },
  {
   "cell_type": "code",
   "execution_count": 46,
   "metadata": {},
   "outputs": [
    {
     "name": "stdout",
     "output_type": "stream",
     "text": [
      ". . . . . . . .\n",
      ". . k . . . . B\n",
      ". . . p . R r .\n",
      "P . . . . . P .\n",
      ". p . . . N . .\n",
      ". . p K P . . .\n",
      ". . . . . . . N\n",
      ". . . . . . . .\n",
      "Best move according to minimax: f4h5\n"
     ]
    }
   ],
   "source": [
    "import chess\n",
    "import chess.engine\n",
    "import numpy as np\n",
    "import random\n",
    "import math\n",
    "import torch\n",
    "\n",
    "\n",
    "\n",
    "\n",
    "def random_board(max_depth=200):\n",
    "    while True:\n",
    "        board = chess.Board()\n",
    "        depth = random.randrange(0, max_depth)\n",
    "\n",
    "        for _ in range(depth):\n",
    "            all_moves = list(board.legal_moves)\n",
    "            random_move = random.choice(all_moves)\n",
    "            board.push(random_move)\n",
    "            if board.is_game_over():\n",
    "                break\n",
    "\n",
    "        score = stockfish(board, 5)\n",
    "\n",
    "        \n",
    "        if score is not None and not math.isnan(score):\n",
    "            return board\n",
    "\n",
    "def stockfish(board, depth):\n",
    "    with chess.engine.SimpleEngine.popen_uci(r\"C:\\Users\\shrey\\Downloads\\stockfish-windows-x86-64-avx2\\stockfish\\stockfish-windows-x86-64-avx2.exe\") as sf:\n",
    "        result = sf.analyse(board, chess.engine.Limit(depth=depth))\n",
    "        \n",
    "        \n",
    "        score = result['score'].white().score() if result['score'].white() is not None else 0.0\n",
    "\n",
    "        return float(score) if score is not None else float('nan')\n",
    "\n",
    "squares_index = {\n",
    "    'a': 0,\n",
    "    'b': 1,\n",
    "    'c': 2,\n",
    "    'd': 3,\n",
    "    'e': 4,\n",
    "    'f': 5,\n",
    "    'g': 6,\n",
    "    'h': 7\n",
    "}\n",
    "def square_to_index(square):\n",
    "    letter = chess.square_name(square)\n",
    "    return 8 - int(letter[1]), squares_index[letter[0]]\n",
    "\n",
    "def split_dims(board):\n",
    "    board3d = np.zeros((14,8,8), dtype=np.int8)\n",
    "    for piece in chess.PIECE_TYPES:\n",
    "        for square in board.pieces(piece, chess.WHITE):\n",
    "            idx = np.unravel_index(square, (8,8))\n",
    "            board3d[piece - 1][7 - idx[0]][idx[1]] = 1\n",
    "        for square in board.pieces(piece, chess.BLACK):\n",
    "            idx = np.unravel_index(square, (8,8))\n",
    "            board3d[piece + 5][7 - idx[0]][idx[1]] = 1\n",
    "\n",
    "    aux = board.turn\n",
    "    board.turn = chess.WHITE\n",
    "    for move in board.legal_moves:\n",
    "        i, j = square_to_index(move.to_square)\n",
    "        board3d[12][i][j] = 1\n",
    "    board.turn = chess.BLACK\n",
    "    for move in board.legal_moves:\n",
    "        i, j = square_to_index(move.to_square)\n",
    "        board3d[13][i][j] = 1\n",
    "    board.turn = aux\n",
    "    return board3d\n",
    "\n",
    "def minimax_eval(board):\n",
    "    board3d = split_dims(board)\n",
    "    board3d = np.expand_dims(board3d, 0)\n",
    "    board3d_tensor = torch.tensor(board3d, dtype=torch.float32)\n",
    "    with torch.no_grad():\n",
    "        output = model(board3d_tensor)\n",
    "    return output.item()\n",
    "\n",
    "def minimax(board, depth, alpha, beta, maximizing_player):\n",
    "    if depth == 0 or board.is_game_over():\n",
    "        return minimax_eval(board)\n",
    "    if maximizing_player:\n",
    "        max_eval = -np.inf\n",
    "        for move in board.legal_moves:\n",
    "            board.push(move)\n",
    "            eval = minimax(board, depth - 1, alpha, beta, False)\n",
    "            board.pop()\n",
    "            max_eval = max(max_eval, eval)\n",
    "            alpha = max(alpha, eval)\n",
    "            if beta <= alpha:\n",
    "                break\n",
    "        return max_eval\n",
    "    else:\n",
    "        min_eval = np.inf\n",
    "        for move in board.legal_moves:\n",
    "            board.push(move)\n",
    "            eval = minimax(board, depth - 1, alpha, beta, True)\n",
    "            board.pop()\n",
    "            min_eval = min(min_eval, eval)\n",
    "            beta = min(beta, eval)\n",
    "            if beta <= alpha:\n",
    "                break\n",
    "        return min_eval\n",
    "\n",
    "def get_ai_move(board, depth):\n",
    "    max_move = None\n",
    "    max_eval = -np.inf\n",
    "    for move in board.legal_moves:\n",
    "        board.push(move)\n",
    "        eval = minimax(board, depth - 1, -np.inf, np.inf, False)\n",
    "        board.pop()\n",
    "        if eval > max_eval:\n",
    "            max_eval = eval\n",
    "            max_move = move\n",
    "    return max_move \n",
    "\n",
    "\n",
    "board = random_board()\n",
    "print(board)\n",
    "move = get_ai_move(board, 3)\n",
    "print(\"Best move according to minimax:\", move)"
   ]
  },
  {
   "cell_type": "code",
   "execution_count": 2,
   "metadata": {},
   "outputs": [
    {
     "ename": "NameError",
     "evalue": "name 'chess' is not defined",
     "output_type": "error",
     "traceback": [
      "\u001b[1;31m---------------------------------------------------------------------------\u001b[0m",
      "\u001b[1;31mNameError\u001b[0m                                 Traceback (most recent call last)",
      "Cell \u001b[1;32mIn[2], line 38\u001b[0m\n\u001b[0;32m     35\u001b[0m     \u001b[38;5;28;01mreturn\u001b[39;00m max_move \n\u001b[0;32m     37\u001b[0m \u001b[38;5;66;03m# Initialize the board\u001b[39;00m\n\u001b[1;32m---> 38\u001b[0m board \u001b[38;5;241m=\u001b[39m \u001b[43mchess\u001b[49m\u001b[38;5;241m.\u001b[39mBoard()\n\u001b[0;32m     40\u001b[0m \u001b[38;5;28;01mwhile\u001b[39;00m \u001b[38;5;28;01mTrue\u001b[39;00m:\n\u001b[0;32m     41\u001b[0m     \u001b[38;5;66;03m# Neural network's move\u001b[39;00m\n\u001b[0;32m     42\u001b[0m     move \u001b[38;5;241m=\u001b[39m get_ai_move(board, \u001b[38;5;241m1\u001b[39m)\n",
      "\u001b[1;31mNameError\u001b[0m: name 'chess' is not defined"
     ]
    }
   ],
   "source": [
    "def get_ai_move(board, depth):\n",
    "    max_move = None\n",
    "    max_eval = -np.inf\n",
    "    \n",
    "    # Check if the current side to move is white or black\n",
    "    maximizing_player = board.turn == chess.WHITE\n",
    "    \n",
    "    for move in board.legal_moves:\n",
    "        board.push(move)\n",
    "        \n",
    "        # Evaluate the board using the neural network\n",
    "        eval = minimax_eval(board) if depth <= 1 else minimax(board, depth - 1, -np.inf, np.inf, maximizing_player)\n",
    "        \n",
    "        board.pop()\n",
    "        \n",
    "        if maximizing_player and eval > max_eval:\n",
    "            max_eval = eval\n",
    "            max_move = move\n",
    "        elif not maximizing_player and eval < max_eval:\n",
    "            max_eval = eval\n",
    "            max_move = move\n",
    "            \n",
    "    return max_move\n",
    "\n",
    "def generate_stockfish_move(board, depth):\n",
    "    max_move = None\n",
    "    max_eval = -np.inf\n",
    "    for move in board.legal_moves:\n",
    "        board.push(move)\n",
    "        eval = minimax(board, depth - 1, -np.inf, np.inf, False)\n",
    "        board.pop()\n",
    "        if eval > max_eval:\n",
    "            max_eval = eval\n",
    "            max_move = move\n",
    "    return max_move \n",
    "\n",
    "# Initialize the board\n",
    "board = chess.Board()\n",
    "\n",
    "while True:\n",
    "    # Neural network's move\n",
    "    move = get_ai_move(board, 1)\n",
    "    board.push(move)\n",
    "    print(f'\\nNeural Network\\'s move:\\n{board}')\n",
    "    if board.is_game_over():\n",
    "        break\n",
    "    \n",
    "    # Stockfish's move\n",
    "    stockfish_move = generate_stockfish_move(board, 3)\n",
    "    board.push(stockfish_move)\n",
    "    print(f'\\nStockfish\\'s move:\\n{board}')\n",
    "    if board.is_game_over():\n",
    "        break"
   ]
  }
 ],
 "metadata": {
  "kernelspec": {
   "display_name": "Python 3",
   "language": "python",
   "name": "python3"
  },
  "language_info": {
   "codemirror_mode": {
    "name": "ipython",
    "version": 3
   },
   "file_extension": ".py",
   "mimetype": "text/x-python",
   "name": "python",
   "nbconvert_exporter": "python",
   "pygments_lexer": "ipython3",
   "version": "3.11.5"
  }
 },
 "nbformat": 4,
 "nbformat_minor": 2
}
